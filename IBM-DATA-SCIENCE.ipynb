{
  "metadata": {
    "language_info": {
      "codemirror_mode": {
        "name": "python",
        "version": 3
      },
      "file_extension": ".py",
      "mimetype": "text/x-python",
      "name": "python",
      "nbconvert_exporter": "python",
      "pygments_lexer": "ipython3",
      "version": "3.8"
    },
    "kernelspec": {
      "name": "python",
      "display_name": "Python (Pyodide)",
      "language": "python"
    }
  },
  "nbformat_minor": 4,
  "nbformat": 4,
  "cells": [
    {
      "cell_type": "markdown",
      "source": "**Exploring Data Science Tools and Techniques using Jupyterlite Notebook**",
      "metadata": {
        "tags": []
      }
    },
    {
      "cell_type": "markdown",
      "source": "Welcome to my Jupyterlite Notebook! In this notebook, I will explore various data science techniques and demonstrate their applications using Python.",
      "metadata": {}
    },
    {
      "cell_type": "markdown",
      "source": "Data science involves the use of various programming languages. Some of the most commonly used languages include:\n\n1. Python\n2. R\n3. SQL\n4. Julia\n5. SAS\n",
      "metadata": {}
    },
    {
      "cell_type": "markdown",
      "source": "Data science involves the use of various libraries that provide pre-built functions and tools. Some of the most commonly used libraries in Python include:\n\n1. Pandas: For data manipulation and analysis.\n2. NumPy: For numerical computations.\n3. Matplotlib: For data visualization.\n4. Scikit-learn: For machine learning.\n5. TensorFlow: For neural networks and deep learning.\n",
      "metadata": {}
    },
    {
      "cell_type": "markdown",
      "source": "| Tool | Description |\n| --- | --- |\n| Python | A high-level, interpreted programming language with easy syntax. |\n| R | A programming language and software environment for statistical computing and graphics. |\n| Jupyter Notebook | An open-source web application that allows creation and sharing of documents with live code, equations, visualizations and narrative text. |\n| Pandas | A software library for Python for data manipulation and analysis. |\n| Numpy | A library for Python, adding support for large, multi-dimensional arrays and matrices, along with a large collection of high-level mathematical functions to operate on these arrays. |\n",
      "metadata": {}
    },
    {
      "cell_type": "markdown",
      "source": "In Python, you can perform arithmetic operations directly on numbers. Here are some examples:\n- Addition: `3 + 2` would give the result `5`.\n- Subtraction: `3 - 2` would give the result `1`.\n- Multiplication: `3 * 2` would give the result `6`.\n- Division: `3 / 2` would give the result `1.5`.",
      "metadata": {}
    },
    {
      "cell_type": "code",
      "source": "# Addition\nprint(3 + 2)\n\n# Subtraction\nprint(3 - 2)\n\n# Multiplication\nprint(3 * 2)\n\n# Division\nprint(3 / 2)\n",
      "metadata": {
        "trusted": true
      },
      "execution_count": 4,
      "outputs": [
        {
          "name": "stdout",
          "text": "5\n1\n6\n1.5\n",
          "output_type": "stream"
        }
      ]
    },
    {
      "cell_type": "code",
      "source": "# Convert minutes to hours\nminutes = 120\nhours = minutes / 60\nprint(hours)",
      "metadata": {
        "trusted": true
      },
      "execution_count": 5,
      "outputs": [
        {
          "name": "stdout",
          "text": "2.0\n",
          "output_type": "stream"
        }
      ]
    },
    {
      "cell_type": "markdown",
      "source": "The objectives of this project are:\n- To understand the basics of Jupyterlite Notebook.\n- To learn how to create and format Markdown cells.\n- To learn how to create and run code cells.\n- To learn how to share a Jupyterlite Notebook via GitHub.",
      "metadata": {}
    },
    {
      "cell_type": "markdown",
      "source": "Author: Xiang Zhang",
      "metadata": {}
    }
  ]
}
